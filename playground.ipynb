{
 "metadata": {
  "language_info": {
   "codemirror_mode": {
    "name": "ipython",
    "version": 3
   },
   "file_extension": ".py",
   "mimetype": "text/x-python",
   "name": "python",
   "nbconvert_exporter": "python",
   "pygments_lexer": "ipython3",
   "version": "3.8.3"
  },
  "orig_nbformat": 2,
  "kernelspec": {
   "name": "python383jvsc74a57bd0ff885020a3c02da1d8ec5e25439164c57a25e81b50d9daf55f9162f51f16c208",
   "display_name": "Python 3.8.3 64-bit ('base': conda)"
  }
 },
 "nbformat": 4,
 "nbformat_minor": 2,
 "cells": [
  {
   "source": [
    "# Co-Win Web API's"
   ],
   "cell_type": "markdown",
   "metadata": {}
  },
  {
   "cell_type": "code",
   "execution_count": 3,
   "metadata": {},
   "outputs": [],
   "source": [
    "import requests"
   ]
  },
  {
   "source": [
    "## 1. Find the ID of our district"
   ],
   "cell_type": "markdown",
   "metadata": {}
  },
  {
   "cell_type": "code",
   "execution_count": 1,
   "metadata": {},
   "outputs": [],
   "source": [
    "headers = {\"User-Agent\": \"Mozilla/5.0 (Windows NT 10.0; Win64; x64) AppleWebKit/537.36 (KHTML, like Gecko) Chrome/90.0.4430.93 Safari/537.36\"}"
   ]
  },
  {
   "cell_type": "code",
   "execution_count": 22,
   "metadata": {},
   "outputs": [
    {
     "output_type": "stream",
     "name": "stdout",
     "text": [
      "200\n"
     ]
    }
   ],
   "source": [
    "response = requests.get(\"https://cdn-api.co-vin.in/api/v2/admin/location/states\", headers=headers)\n",
    "print(response.status_code)"
   ]
  },
  {
   "cell_type": "code",
   "execution_count": 23,
   "metadata": {},
   "outputs": [
    {
     "output_type": "execute_result",
     "data": {
      "text/plain": [
       "{'states': [{'state_id': 1, 'state_name': 'Andaman and Nicobar Islands'},\n",
       "  {'state_id': 2, 'state_name': 'Andhra Pradesh'},\n",
       "  {'state_id': 3, 'state_name': 'Arunachal Pradesh'},\n",
       "  {'state_id': 4, 'state_name': 'Assam'},\n",
       "  {'state_id': 5, 'state_name': 'Bihar'},\n",
       "  {'state_id': 6, 'state_name': 'Chandigarh'},\n",
       "  {'state_id': 7, 'state_name': 'Chhattisgarh'},\n",
       "  {'state_id': 8, 'state_name': 'Dadra and Nagar Haveli'},\n",
       "  {'state_id': 37, 'state_name': 'Daman and Diu'},\n",
       "  {'state_id': 9, 'state_name': 'Delhi'},\n",
       "  {'state_id': 10, 'state_name': 'Goa'},\n",
       "  {'state_id': 11, 'state_name': 'Gujarat'},\n",
       "  {'state_id': 12, 'state_name': 'Haryana'},\n",
       "  {'state_id': 13, 'state_name': 'Himachal Pradesh'},\n",
       "  {'state_id': 14, 'state_name': 'Jammu and Kashmir'},\n",
       "  {'state_id': 15, 'state_name': 'Jharkhand'},\n",
       "  {'state_id': 16, 'state_name': 'Karnataka'},\n",
       "  {'state_id': 17, 'state_name': 'Kerala'},\n",
       "  {'state_id': 18, 'state_name': 'Ladakh'},\n",
       "  {'state_id': 19, 'state_name': 'Lakshadweep'},\n",
       "  {'state_id': 20, 'state_name': 'Madhya Pradesh'},\n",
       "  {'state_id': 21, 'state_name': 'Maharashtra'},\n",
       "  {'state_id': 22, 'state_name': 'Manipur'},\n",
       "  {'state_id': 23, 'state_name': 'Meghalaya'},\n",
       "  {'state_id': 24, 'state_name': 'Mizoram'},\n",
       "  {'state_id': 25, 'state_name': 'Nagaland'},\n",
       "  {'state_id': 26, 'state_name': 'Odisha'},\n",
       "  {'state_id': 27, 'state_name': 'Puducherry'},\n",
       "  {'state_id': 28, 'state_name': 'Punjab'},\n",
       "  {'state_id': 29, 'state_name': 'Rajasthan'},\n",
       "  {'state_id': 30, 'state_name': 'Sikkim'},\n",
       "  {'state_id': 31, 'state_name': 'Tamil Nadu'},\n",
       "  {'state_id': 32, 'state_name': 'Telangana'},\n",
       "  {'state_id': 33, 'state_name': 'Tripura'},\n",
       "  {'state_id': 34, 'state_name': 'Uttar Pradesh'},\n",
       "  {'state_id': 35, 'state_name': 'Uttarakhand'},\n",
       "  {'state_id': 36, 'state_name': 'West Bengal'}],\n",
       " 'ttl': 24}"
      ]
     },
     "metadata": {},
     "execution_count": 23
    }
   ],
   "source": [
    "response.json()"
   ]
  },
  {
   "source": [
    "Say we want the districts in `tamil nadu`, we will get the state's code from the list above. Its value is `31`"
   ],
   "cell_type": "markdown",
   "metadata": {}
  },
  {
   "cell_type": "code",
   "execution_count": 20,
   "metadata": {},
   "outputs": [
    {
     "output_type": "stream",
     "name": "stdout",
     "text": [
      "200\n"
     ]
    }
   ],
   "source": [
    "# State code for tamil nadu is 31\n",
    "\n",
    "# Now we get the districts here\n",
    "response = requests.get(\"https://cdn-api.co-vin.in/api/v2/admin/location/districts/31\", headers=headers)\n",
    "print(response.status_code)"
   ]
  },
  {
   "cell_type": "code",
   "execution_count": 21,
   "metadata": {},
   "outputs": [
    {
     "output_type": "execute_result",
     "data": {
      "text/plain": [
       "{'districts': [{'district_id': 779, 'district_name': 'Aranthangi'},\n",
       "  {'district_id': 555, 'district_name': 'Ariyalur'},\n",
       "  {'district_id': 578, 'district_name': 'Attur'},\n",
       "  {'district_id': 565, 'district_name': 'Chengalpet'},\n",
       "  {'district_id': 571, 'district_name': 'Chennai'},\n",
       "  {'district_id': 778, 'district_name': 'Cheyyar'},\n",
       "  {'district_id': 539, 'district_name': 'Coimbatore'},\n",
       "  {'district_id': 547, 'district_name': 'Cuddalore'},\n",
       "  {'district_id': 566, 'district_name': 'Dharmapuri'},\n",
       "  {'district_id': 556, 'district_name': 'Dindigul'},\n",
       "  {'district_id': 563, 'district_name': 'Erode'},\n",
       "  {'district_id': 552, 'district_name': 'Kallakurichi'},\n",
       "  {'district_id': 557, 'district_name': 'Kanchipuram'},\n",
       "  {'district_id': 544, 'district_name': 'Kanyakumari'},\n",
       "  {'district_id': 559, 'district_name': 'Karur'},\n",
       "  {'district_id': 780, 'district_name': 'Kovilpatti'},\n",
       "  {'district_id': 562, 'district_name': 'Krishnagiri'},\n",
       "  {'district_id': 540, 'district_name': 'Madurai'},\n",
       "  {'district_id': 576, 'district_name': 'Nagapattinam'},\n",
       "  {'district_id': 558, 'district_name': 'Namakkal'},\n",
       "  {'district_id': 577, 'district_name': 'Nilgiris'},\n",
       "  {'district_id': 564, 'district_name': 'Palani'},\n",
       "  {'district_id': 573, 'district_name': 'Paramakudi'},\n",
       "  {'district_id': 570, 'district_name': 'Perambalur'},\n",
       "  {'district_id': 575, 'district_name': 'Poonamallee'},\n",
       "  {'district_id': 546, 'district_name': 'Pudukkottai'},\n",
       "  {'district_id': 567, 'district_name': 'Ramanathapuram'},\n",
       "  {'district_id': 781, 'district_name': 'Ranipet'},\n",
       "  {'district_id': 545, 'district_name': 'Salem'},\n",
       "  {'district_id': 561, 'district_name': 'Sivaganga'},\n",
       "  {'district_id': 580, 'district_name': 'Sivakasi'},\n",
       "  {'district_id': 551, 'district_name': 'Tenkasi'},\n",
       "  {'district_id': 541, 'district_name': 'Thanjavur'},\n",
       "  {'district_id': 569, 'district_name': 'Theni'},\n",
       "  {'district_id': 554, 'district_name': 'Thoothukudi (Tuticorin)'},\n",
       "  {'district_id': 560, 'district_name': 'Tiruchirappalli'},\n",
       "  {'district_id': 548, 'district_name': 'Tirunelveli'},\n",
       "  {'district_id': 550, 'district_name': 'Tirupattur'},\n",
       "  {'district_id': 568, 'district_name': 'Tiruppur'},\n",
       "  {'district_id': 572, 'district_name': 'Tiruvallur'},\n",
       "  {'district_id': 553, 'district_name': 'Tiruvannamalai'},\n",
       "  {'district_id': 574, 'district_name': 'Tiruvarur'},\n",
       "  {'district_id': 543, 'district_name': 'Vellore'},\n",
       "  {'district_id': 542, 'district_name': 'Viluppuram'},\n",
       "  {'district_id': 549, 'district_name': 'Virudhunagar'}],\n",
       " 'ttl': 24}"
      ]
     },
     "metadata": {},
     "execution_count": 21
    }
   ],
   "source": [
    "response.json()"
   ]
  },
  {
   "source": [
    "We note down the code for a district, say the code for `madurai` is `540`"
   ],
   "cell_type": "markdown",
   "metadata": {}
  },
  {
   "source": [
    "## 2. Decide the date to be queried"
   ],
   "cell_type": "markdown",
   "metadata": {}
  },
  {
   "cell_type": "code",
   "execution_count": 14,
   "metadata": {},
   "outputs": [],
   "source": [
    "import datetime\n",
    "import pytz"
   ]
  },
  {
   "cell_type": "code",
   "execution_count": 18,
   "metadata": {},
   "outputs": [
    {
     "output_type": "execute_result",
     "data": {
      "text/plain": [
       "datetime.datetime(2021, 6, 8, 13, 57, 54, 380856, tzinfo=<DstTzInfo 'Asia/Kolkata' IST+5:30:00 STD>)"
      ]
     },
     "metadata": {},
     "execution_count": 18
    }
   ],
   "source": [
    "# Get the current time\n",
    "now = datetime.datetime.now()\n",
    "\n",
    "# Set the timezone\n",
    "tz = pytz.timezone('Asia/Kolkata')\n",
    "\n",
    "# Convert the current time into this timezone\n",
    "now = now.astimezone(tz)\n",
    "\n",
    "now"
   ]
  },
  {
   "cell_type": "code",
   "execution_count": 21,
   "metadata": {},
   "outputs": [
    {
     "output_type": "execute_result",
     "data": {
      "text/plain": [
       "'08-06-2021'"
      ]
     },
     "metadata": {},
     "execution_count": 21
    }
   ],
   "source": [
    "# Get this into the required format\n",
    "\n",
    "current_date = now.strftime(\"%d-%m-%Y\")\n",
    "current_date"
   ]
  },
  {
   "cell_type": "code",
   "execution_count": 24,
   "metadata": {},
   "outputs": [
    {
     "output_type": "execute_result",
     "data": {
      "text/plain": [
       "13"
      ]
     },
     "metadata": {},
     "execution_count": 24
    }
   ],
   "source": [
    "# To get the hour\n",
    "\n",
    "now.hour"
   ]
  },
  {
   "cell_type": "code",
   "execution_count": 26,
   "metadata": {},
   "outputs": [
    {
     "output_type": "execute_result",
     "data": {
      "text/plain": [
       "datetime.datetime(2021, 6, 9, 13, 57, 54, 380856, tzinfo=<DstTzInfo 'Asia/Kolkata' IST+5:30:00 STD>)"
      ]
     },
     "metadata": {},
     "execution_count": 26
    }
   ],
   "source": [
    "# Increase the day to the next day\n",
    "next_date = now + datetime.timedelta(days=1)\n",
    "next_date"
   ]
  },
  {
   "source": [
    "## 2. Get the vaccine slots based on this district code"
   ],
   "cell_type": "markdown",
   "metadata": {}
  },
  {
   "cell_type": "code",
   "execution_count": 27,
   "metadata": {},
   "outputs": [
    {
     "output_type": "stream",
     "name": "stdout",
     "text": [
      "200\n"
     ]
    }
   ],
   "source": [
    "# Now we get the vaccine slots here\n",
    "\n",
    "parameters = {\n",
    "    'district_id' : \"540\",\n",
    "    \"date\" : current_date,\n",
    "}\n",
    "response = requests.get(\"https://cdn-api.co-vin.in/api/v2/appointment/sessions/public/findByDistrict\",                              headers=headers, params=parameters)\n",
    "print(response.status_code)"
   ]
  },
  {
   "cell_type": "code",
   "execution_count": 28,
   "metadata": {},
   "outputs": [
    {
     "output_type": "execute_result",
     "data": {
      "text/plain": [
       "{'sessions': [{'center_id': 712077,\n",
       "   'name': 'Rajaji Hospital WP CVC',\n",
       "   'address': 'Panagal Road Madurai',\n",
       "   'state_name': 'Tamil Nadu',\n",
       "   'district_name': 'Madurai',\n",
       "   'block_name': 'Zone 2',\n",
       "   'pincode': 625020,\n",
       "   'from': '09:00:00',\n",
       "   'to': '18:00:00',\n",
       "   'lat': 9,\n",
       "   'long': 78,\n",
       "   'fee_type': 'Free',\n",
       "   'session_id': '820fd509-e500-4ba2-aaa6-5e049af89be8',\n",
       "   'date': '08-06-2021',\n",
       "   'available_capacity_dose1': 0,\n",
       "   'available_capacity_dose2': 0,\n",
       "   'available_capacity': 0,\n",
       "   'fee': '0',\n",
       "   'min_age_limit': 18,\n",
       "   'vaccine': 'COVISHIELD',\n",
       "   'slots': ['09:00AM-11:00AM',\n",
       "    '11:00AM-01:00PM',\n",
       "    '01:00PM-03:00PM',\n",
       "    '03:00PM-06:00PM']},\n",
       "  {'center_id': 712028,\n",
       "   'name': 'DDHS WP CVC',\n",
       "   'address': 'Viswanathapuram',\n",
       "   'state_name': 'Tamil Nadu',\n",
       "   'district_name': 'Madurai',\n",
       "   'block_name': 'NORTH',\n",
       "   'pincode': 625014,\n",
       "   'from': '09:00:00',\n",
       "   'to': '18:00:00',\n",
       "   'lat': 9,\n",
       "   'long': 78,\n",
       "   'fee_type': 'Free',\n",
       "   'session_id': '805cb2c5-4666-41e5-a233-55b669ef4679',\n",
       "   'date': '08-06-2021',\n",
       "   'available_capacity_dose1': 0,\n",
       "   'available_capacity_dose2': 0,\n",
       "   'available_capacity': 0,\n",
       "   'fee': '0',\n",
       "   'min_age_limit': 45,\n",
       "   'vaccine': 'COVAXIN',\n",
       "   'slots': ['09:00AM-11:00AM',\n",
       "    '11:00AM-01:00PM',\n",
       "    '01:00PM-03:00PM',\n",
       "    '03:00PM-06:00PM']},\n",
       "  {'center_id': 587337,\n",
       "   'name': 'Apollo Speciality Hospital',\n",
       "   'address': 'Lake View Road K K NagarMadurai',\n",
       "   'state_name': 'Tamil Nadu',\n",
       "   'district_name': 'Madurai',\n",
       "   'block_name': 'Zone 2',\n",
       "   'pincode': 625020,\n",
       "   'from': '09:00:00',\n",
       "   'to': '14:00:00',\n",
       "   'lat': 9,\n",
       "   'long': 78,\n",
       "   'fee_type': 'Paid',\n",
       "   'session_id': 'e810791e-f86d-40e2-80f2-bfbfc5d2ed61',\n",
       "   'date': '08-06-2021',\n",
       "   'available_capacity_dose1': 73,\n",
       "   'available_capacity_dose2': 0,\n",
       "   'available_capacity': 73,\n",
       "   'fee': '850',\n",
       "   'min_age_limit': 18,\n",
       "   'vaccine': 'COVISHIELD',\n",
       "   'slots': ['09:00AM-10:00AM',\n",
       "    '10:00AM-11:00AM',\n",
       "    '11:00AM-12:00PM',\n",
       "    '12:00PM-02:00PM']},\n",
       "  {'center_id': 618488,\n",
       "   'name': 'K Pudur Covaxin Site',\n",
       "   'address': 'Alagarkovil Rd',\n",
       "   'state_name': 'Tamil Nadu',\n",
       "   'district_name': 'Madurai',\n",
       "   'block_name': 'Zone 2',\n",
       "   'pincode': 625007,\n",
       "   'from': '09:00:00',\n",
       "   'to': '18:00:00',\n",
       "   'lat': 9,\n",
       "   'long': 78,\n",
       "   'fee_type': 'Free',\n",
       "   'session_id': 'abed2ea5-a23a-4a6e-baaf-f4c349cb604f',\n",
       "   'date': '08-06-2021',\n",
       "   'available_capacity_dose1': 0,\n",
       "   'available_capacity_dose2': 0,\n",
       "   'available_capacity': 0,\n",
       "   'fee': '0',\n",
       "   'min_age_limit': 45,\n",
       "   'vaccine': 'COVAXIN',\n",
       "   'slots': ['09:00AM-11:00AM',\n",
       "    '11:00AM-01:00PM',\n",
       "    '01:00PM-03:00PM',\n",
       "    '03:00PM-06:00PM']},\n",
       "  {'center_id': 711662,\n",
       "   'name': 'Kallandri BPHC WP CVC',\n",
       "   'address': 'Alagarkovil Rd Madurai',\n",
       "   'state_name': 'Tamil Nadu',\n",
       "   'district_name': 'Madurai',\n",
       "   'block_name': 'NORTH',\n",
       "   'pincode': 625301,\n",
       "   'from': '09:00:00',\n",
       "   'to': '18:00:00',\n",
       "   'lat': 10,\n",
       "   'long': 78,\n",
       "   'fee_type': 'Free',\n",
       "   'session_id': 'dab310d3-6dae-4a09-a4dc-6355c6a40316',\n",
       "   'date': '08-06-2021',\n",
       "   'available_capacity_dose1': 0,\n",
       "   'available_capacity_dose2': 0,\n",
       "   'available_capacity': 0,\n",
       "   'fee': '0',\n",
       "   'min_age_limit': 18,\n",
       "   'vaccine': 'COVAXIN',\n",
       "   'slots': ['09:00AM-11:00AM',\n",
       "    '11:00AM-01:00PM',\n",
       "    '01:00PM-03:00PM',\n",
       "    '03:00PM-06:00PM']},\n",
       "  {'center_id': 711194,\n",
       "   'name': 'K Pudur UPHC WP CVC',\n",
       "   'address': 'K Pudur',\n",
       "   'state_name': 'Tamil Nadu',\n",
       "   'district_name': 'Madurai',\n",
       "   'block_name': 'Zone 2',\n",
       "   'pincode': 625007,\n",
       "   'from': '09:00:00',\n",
       "   'to': '18:00:00',\n",
       "   'lat': 9,\n",
       "   'long': 78,\n",
       "   'fee_type': 'Free',\n",
       "   'session_id': '93207e75-3995-46e4-8223-6792b020e8f9',\n",
       "   'date': '08-06-2021',\n",
       "   'available_capacity_dose1': 0,\n",
       "   'available_capacity_dose2': 0,\n",
       "   'available_capacity': 0,\n",
       "   'fee': '0',\n",
       "   'min_age_limit': 18,\n",
       "   'vaccine': 'COVAXIN',\n",
       "   'slots': ['09:00AM-11:00AM',\n",
       "    '11:00AM-01:00PM',\n",
       "    '01:00PM-03:00PM',\n",
       "    '03:00PM-06:00PM']},\n",
       "  {'center_id': 188360,\n",
       "   'name': 'Kallandri BPHC',\n",
       "   'address': 'Alagarkovil Rd Maduai',\n",
       "   'state_name': 'Tamil Nadu',\n",
       "   'district_name': 'Madurai',\n",
       "   'block_name': 'NORTH',\n",
       "   'pincode': 625301,\n",
       "   'from': '09:00:00',\n",
       "   'to': '18:00:00',\n",
       "   'lat': 10,\n",
       "   'long': 78,\n",
       "   'fee_type': 'Free',\n",
       "   'session_id': '7644ecd5-25b5-46d5-9199-0ac0ad05f28f',\n",
       "   'date': '08-06-2021',\n",
       "   'available_capacity_dose1': 0,\n",
       "   'available_capacity_dose2': 0,\n",
       "   'available_capacity': 0,\n",
       "   'fee': '0',\n",
       "   'min_age_limit': 45,\n",
       "   'vaccine': 'COVAXIN',\n",
       "   'slots': ['09:00AM-11:00AM',\n",
       "    '11:00AM-01:00PM',\n",
       "    '01:00PM-03:00PM',\n",
       "    '03:00PM-06:00PM']},\n",
       "  {'center_id': 712028,\n",
       "   'name': 'DDHS WP CVC',\n",
       "   'address': 'Viswanathapuram',\n",
       "   'state_name': 'Tamil Nadu',\n",
       "   'district_name': 'Madurai',\n",
       "   'block_name': 'NORTH',\n",
       "   'pincode': 625014,\n",
       "   'from': '09:00:00',\n",
       "   'to': '18:00:00',\n",
       "   'lat': 9,\n",
       "   'long': 78,\n",
       "   'fee_type': 'Free',\n",
       "   'session_id': '2cea70bc-cb5d-4952-adf5-c3c5429da728',\n",
       "   'date': '08-06-2021',\n",
       "   'available_capacity_dose1': 0,\n",
       "   'available_capacity_dose2': 0,\n",
       "   'available_capacity': 0,\n",
       "   'fee': '0',\n",
       "   'min_age_limit': 18,\n",
       "   'vaccine': 'COVISHIELD',\n",
       "   'slots': ['09:00AM-11:00AM',\n",
       "    '11:00AM-01:00PM',\n",
       "    '01:00PM-03:00PM',\n",
       "    '03:00PM-06:00PM']},\n",
       "  {'center_id': 711662,\n",
       "   'name': 'Kallandri BPHC WP CVC',\n",
       "   'address': 'Alagarkovil Rd Madurai',\n",
       "   'state_name': 'Tamil Nadu',\n",
       "   'district_name': 'Madurai',\n",
       "   'block_name': 'NORTH',\n",
       "   'pincode': 625301,\n",
       "   'from': '09:00:00',\n",
       "   'to': '18:00:00',\n",
       "   'lat': 10,\n",
       "   'long': 78,\n",
       "   'fee_type': 'Free',\n",
       "   'session_id': 'ff577ac2-1a18-436d-ba84-05e34448a2df',\n",
       "   'date': '08-06-2021',\n",
       "   'available_capacity_dose1': 0,\n",
       "   'available_capacity_dose2': 0,\n",
       "   'available_capacity': 0,\n",
       "   'fee': '0',\n",
       "   'min_age_limit': 18,\n",
       "   'vaccine': 'COVISHIELD',\n",
       "   'slots': ['09:00AM-11:00AM',\n",
       "    '11:00AM-01:00PM',\n",
       "    '01:00PM-03:00PM',\n",
       "    '03:00PM-06:00PM']},\n",
       "  {'center_id': 710808,\n",
       "   'name': 'Vellalore BPHC WP CVC',\n",
       "   'address': 'VellaloreMelur Block Madurai Dt',\n",
       "   'state_name': 'Tamil Nadu',\n",
       "   'district_name': 'Madurai',\n",
       "   'block_name': 'Melur',\n",
       "   'pincode': 625109,\n",
       "   'from': '09:00:00',\n",
       "   'to': '18:00:00',\n",
       "   'lat': 9,\n",
       "   'long': 78,\n",
       "   'fee_type': 'Free',\n",
       "   'session_id': '701abc5b-fde3-4e5a-800b-39f28b63e7d1',\n",
       "   'date': '08-06-2021',\n",
       "   'available_capacity_dose1': 0,\n",
       "   'available_capacity_dose2': 0,\n",
       "   'available_capacity': 0,\n",
       "   'fee': '0',\n",
       "   'min_age_limit': 18,\n",
       "   'vaccine': 'COVISHIELD',\n",
       "   'slots': ['09:00AM-11:00AM',\n",
       "    '11:00AM-01:00PM',\n",
       "    '01:00PM-03:00PM',\n",
       "    '03:00PM-06:00PM']},\n",
       "  {'center_id': 726624,\n",
       "   'name': 'Apollo Pharmacy WP CVC',\n",
       "   'address': 'KK Nagar  Madurai',\n",
       "   'state_name': 'Tamil Nadu',\n",
       "   'district_name': 'Madurai',\n",
       "   'block_name': 'Zone 2',\n",
       "   'pincode': 625020,\n",
       "   'from': '12:00:00',\n",
       "   'to': '14:00:00',\n",
       "   'lat': 9,\n",
       "   'long': 78,\n",
       "   'fee_type': 'Paid',\n",
       "   'session_id': '9e1ff7de-722d-4d07-8338-821344b8df8c',\n",
       "   'date': '08-06-2021',\n",
       "   'available_capacity_dose1': 0,\n",
       "   'available_capacity_dose2': 0,\n",
       "   'available_capacity': 0,\n",
       "   'fee': '0',\n",
       "   'min_age_limit': 18,\n",
       "   'vaccine': 'COVISHIELD',\n",
       "   'slots': ['12:00PM-02:00PM']},\n",
       "  {'center_id': 645267,\n",
       "   'name': 'Vellalore Covaxin Site',\n",
       "   'address': 'Vellalore',\n",
       "   'state_name': 'Tamil Nadu',\n",
       "   'district_name': 'Madurai',\n",
       "   'block_name': 'Melur',\n",
       "   'pincode': 625106,\n",
       "   'from': '09:00:00',\n",
       "   'to': '18:00:00',\n",
       "   'lat': 10,\n",
       "   'long': 78,\n",
       "   'fee_type': 'Free',\n",
       "   'session_id': '9f0a7d76-3f3f-46ab-aabe-76c593d0a940',\n",
       "   'date': '08-06-2021',\n",
       "   'available_capacity_dose1': 0,\n",
       "   'available_capacity_dose2': 0,\n",
       "   'available_capacity': 0,\n",
       "   'fee': '0',\n",
       "   'min_age_limit': 45,\n",
       "   'vaccine': 'COVAXIN',\n",
       "   'slots': ['09:00AM-11:00AM',\n",
       "    '11:00AM-01:00PM',\n",
       "    '01:00PM-03:00PM',\n",
       "    '03:00PM-06:00PM']},\n",
       "  {'center_id': 188360,\n",
       "   'name': 'Kallandri BPHC',\n",
       "   'address': 'Alagarkovil Rd Maduai',\n",
       "   'state_name': 'Tamil Nadu',\n",
       "   'district_name': 'Madurai',\n",
       "   'block_name': 'NORTH',\n",
       "   'pincode': 625301,\n",
       "   'from': '09:00:00',\n",
       "   'to': '18:00:00',\n",
       "   'lat': 10,\n",
       "   'long': 78,\n",
       "   'fee_type': 'Free',\n",
       "   'session_id': '921f005f-e571-410b-b887-46ce2a5254e3',\n",
       "   'date': '08-06-2021',\n",
       "   'available_capacity_dose1': 0,\n",
       "   'available_capacity_dose2': 0,\n",
       "   'available_capacity': 0,\n",
       "   'fee': '0',\n",
       "   'min_age_limit': 45,\n",
       "   'vaccine': 'COVISHIELD',\n",
       "   'slots': ['09:00AM-11:00AM',\n",
       "    '11:00AM-01:00PM',\n",
       "    '01:00PM-03:00PM',\n",
       "    '03:00PM-06:00PM']},\n",
       "  {'center_id': 712028,\n",
       "   'name': 'DDHS WP CVC',\n",
       "   'address': 'Viswanathapuram',\n",
       "   'state_name': 'Tamil Nadu',\n",
       "   'district_name': 'Madurai',\n",
       "   'block_name': 'NORTH',\n",
       "   'pincode': 625014,\n",
       "   'from': '09:00:00',\n",
       "   'to': '18:00:00',\n",
       "   'lat': 9,\n",
       "   'long': 78,\n",
       "   'fee_type': 'Free',\n",
       "   'session_id': '8accb00c-47fa-43e7-8fcc-5e131772d0ff',\n",
       "   'date': '08-06-2021',\n",
       "   'available_capacity_dose1': 0,\n",
       "   'available_capacity_dose2': 0,\n",
       "   'available_capacity': 0,\n",
       "   'fee': '0',\n",
       "   'min_age_limit': 18,\n",
       "   'vaccine': 'COVAXIN',\n",
       "   'slots': ['09:00AM-11:00AM',\n",
       "    '11:00AM-01:00PM',\n",
       "    '01:00PM-03:00PM',\n",
       "    '03:00PM-06:00PM']},\n",
       "  {'center_id': 712028,\n",
       "   'name': 'DDHS WP CVC',\n",
       "   'address': 'Viswanathapuram',\n",
       "   'state_name': 'Tamil Nadu',\n",
       "   'district_name': 'Madurai',\n",
       "   'block_name': 'NORTH',\n",
       "   'pincode': 625014,\n",
       "   'from': '09:00:00',\n",
       "   'to': '18:00:00',\n",
       "   'lat': 9,\n",
       "   'long': 78,\n",
       "   'fee_type': 'Free',\n",
       "   'session_id': '5e208009-f343-45cc-8f56-c7427545af27',\n",
       "   'date': '08-06-2021',\n",
       "   'available_capacity_dose1': 0,\n",
       "   'available_capacity_dose2': 0,\n",
       "   'available_capacity': 0,\n",
       "   'fee': '0',\n",
       "   'min_age_limit': 45,\n",
       "   'vaccine': 'COVISHIELD',\n",
       "   'slots': ['09:00AM-11:00AM',\n",
       "    '11:00AM-01:00PM',\n",
       "    '01:00PM-03:00PM',\n",
       "    '03:00PM-06:00PM']}]}"
      ]
     },
     "metadata": {},
     "execution_count": 28
    }
   ],
   "source": [
    "response.json()"
   ]
  },
  {
   "source": [
    "## 3. Parse through this data"
   ],
   "cell_type": "markdown",
   "metadata": {}
  },
  {
   "cell_type": "code",
   "execution_count": 6,
   "metadata": {},
   "outputs": [],
   "source": [
    "# Save this json response\n",
    "data = response.json()\n",
    "\n",
    "candidate_centers = []\n",
    "# Parse through this json data and save the ones which have availability\n",
    "for center in data['sessions'] :\n",
    "    if (\n",
    "        (center['vaccine'] in ['COVISHIELD', 'SPUTNIK V']) and\n",
    "        (center['min_age_limit'] > 44 ) and \n",
    "        (center['available_capacity_dose1'] > 0 )\n",
    "    ) :\n",
    "        cur_candidate = {\n",
    "            'name' : center['name'],\n",
    "            'num_dose_1' : center['available_capacity_dose1'],\n",
    "            'fee' : center['fee'],\n",
    "            'vaccine' : center['vaccine'],\n",
    "            'min_age' : center['min_age_limit'],\n",
    "            'slots' : center['slots']\n",
    "        }\n",
    "        candidate_centers.append(cur_candidate)"
   ]
  },
  {
   "cell_type": "code",
   "execution_count": 7,
   "metadata": {},
   "outputs": [
    {
     "output_type": "execute_result",
     "data": {
      "text/plain": [
       "[]"
      ]
     },
     "metadata": {},
     "execution_count": 7
    }
   ],
   "source": [
    "candidate_centers"
   ]
  },
  {
   "source": [
    "## 4. Generate the text version of these centers"
   ],
   "cell_type": "markdown",
   "metadata": {}
  },
  {
   "cell_type": "code",
   "execution_count": null,
   "metadata": {},
   "outputs": [],
   "source": [
    "def generateText(candidate_centers) :\n",
    "    \"\"\"\n",
    "    Given a list of candidate centers, converts these dictionary content to a text format\n",
    "    \"\"\"\n",
    "\n",
    "    complete_text = \"\"\n",
    "\n",
    "    for i, center in enumerate(candidate_centers) :\n",
    "        complete_text += f\"{i+1}<b><u>{center['name']} :</u></b>\"\n",
    "        complete_text += f\"Doses Available : {center['num_dose_1']}\"\n",
    "        complete_text += f\"Fee : {center['fee']}\"\n",
    "        complete_text += f\"Vaccine : {center['vaccine']}\"\n",
    "        complete_text += f\"Age group : {center['min_age_limit']}+ years\"\n",
    "        complete_text += f\"Slots : {center['slots'][0]}\"\n",
    "        for j in range(1, len(center['slots'])) :\n",
    "            complete_text += f\"{center['slots'][j]}\"\n",
    "        complete_text += \"---------------------\""
   ]
  },
  {
   "source": [
    "# Logging activity"
   ],
   "cell_type": "markdown",
   "metadata": {}
  },
  {
   "cell_type": "code",
   "execution_count": 36,
   "metadata": {},
   "outputs": [],
   "source": [
    "# Trim the log file such that it contains only the last 5 records\n",
    "with open('./logs/status.log', 'r') as log_file:\n",
    "    past_records = log_file.readlines()\n",
    "\n",
    "past_records = past_records[-5:]\n",
    "\n",
    "with open('./logs/status.log', 'w') as log_file:\n",
    "    log_file.writelines(past_records)"
   ]
  },
  {
   "source": [
    "# Twitter API"
   ],
   "cell_type": "markdown",
   "metadata": {}
  },
  {
   "cell_type": "code",
   "execution_count": 43,
   "metadata": {},
   "outputs": [],
   "source": [
    "import tweepy"
   ]
  },
  {
   "cell_type": "code",
   "execution_count": null,
   "metadata": {},
   "outputs": [],
   "source": [
    "# Authenticate access\n",
    "\n",
    "auth = tweepy.OAuthHandler(\"CONSUMER_KEY\", \"CONSUMER_SECRET\")\n",
    "auth.set_access_token(\"ACCESS_TOKEN\", \"ACCESS_TOKEN_SECRET\")"
   ]
  },
  {
   "cell_type": "code",
   "execution_count": null,
   "metadata": {},
   "outputs": [],
   "source": [
    "# Create API handler\n",
    "\n",
    "api = tweepy.API(auth)"
   ]
  },
  {
   "cell_type": "code",
   "execution_count": null,
   "metadata": {},
   "outputs": [],
   "source": [
    "# Get the username of the reciever\n",
    "\n",
    "user = api.get_user(\"username\")\n",
    "recipient_id = user.id_str\n",
    "# This is to be stored as a repoditory secret"
   ]
  },
  {
   "cell_type": "code",
   "execution_count": null,
   "metadata": {},
   "outputs": [],
   "source": [
    "# Send a DM\n",
    "\n",
    "api.send_direct_message(recipient_id, \"Hoi hoi\")"
   ]
  }
 ]
}